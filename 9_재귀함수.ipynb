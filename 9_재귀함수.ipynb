{
 "cells": [
  {
   "cell_type": "code",
   "execution_count": 3,
   "metadata": {},
   "outputs": [
    {
     "name": "stdout",
     "output_type": "stream",
     "text": [
      "[10, 20, 30]\n"
     ]
    }
   ],
   "source": [
    "# 재귀함수1\n",
    "# 리스트 요소 옮기기\n",
    "\n",
    "def recur1(i,N):\n",
    "    '''\n",
    "    Args:\n",
    "        i: 현재 처리할 인덱스\n",
    "        N: 리스트 요소의 전체 개수\n",
    "    '''\n",
    "    if i ==N:\n",
    "        return\n",
    "    \n",
    "    B[i] = A[i]\n",
    "    recur1(i+1,N)\n",
    "A=[10,20,30]\n",
    "N=len(A)\n",
    "B=[0]*N\n",
    "recur1(0,N)\n",
    "print(B) # A의 요소 값이 출력되도록\n"
   ]
  },
  {
   "cell_type": "code",
   "execution_count": 9,
   "metadata": {},
   "outputs": [
    {
     "name": "stdout",
     "output_type": "stream",
     "text": [
      "1\n"
     ]
    }
   ],
   "source": [
    "# 리스트 요소 탐색\n",
    "def recur2(i,N,target):\n",
    "    # 타겟이 리스트 A안에 있으면1, 없으면 0 리턴하도록 설계\n",
    "    #  종료 조건\n",
    "    #  찾았을 때\n",
    "    # 못 찾았을 때\n",
    "    if i == N :\n",
    "        return -1\n",
    "    elif A[i]==target:\n",
    "        return 1\n",
    "    \n",
    "    # 마지막에 결정된 리턴값을 이전값에 전달\n",
    "    return recur2(i+1,N,target)\n",
    "    \n",
    "    \n",
    "\n",
    "\n",
    "A = [7,3,2,51,4]\n",
    "N = len(A)\n",
    "target = 51\n",
    "print(recur2(0,N,target))"
   ]
  },
  {
   "cell_type": "code",
   "execution_count": 12,
   "metadata": {},
   "outputs": [
    {
     "name": "stdout",
     "output_type": "stream",
     "text": [
      "[0, 0, 0]\n",
      "[0, 0, 1]\n",
      "[0, 1, 0]\n",
      "[0, 1, 1]\n",
      "[1, 0, 0]\n",
      "[1, 0, 1]\n",
      "[1, 1, 0]\n",
      "[1, 1, 1]\n"
     ]
    }
   ],
   "source": [
    "# 부분집합\n",
    "# 크기가 2인 부분집합을 얻고 싶을 때\n",
    "# [0,1], [1,0], [0,0],[1,1]\n",
    "def recur3(i,N):\n",
    "    if i == N:\n",
    "        print(A)\n",
    "        return\n",
    "    for j in range(2): #0,1 쓸지 말지\n",
    "        A[i] = j # 결정\n",
    "        recur3(i+1,N) # 다음 인덱스 값 할당\n",
    "   \n",
    "        \n",
    "N = 3\n",
    "A = [0]*N\n",
    "recur3(0,N)\n",
    " "
   ]
  },
  {
   "cell_type": "code",
   "execution_count": 14,
   "metadata": {},
   "outputs": [
    {
     "name": "stdout",
     "output_type": "stream",
     "text": [
      "['사과', '사과', '사과']\n",
      "['사과', '사과', '딸기']\n",
      "['사과', '사과', '포도']\n",
      "['사과', '딸기', '사과']\n",
      "['사과', '딸기', '딸기']\n",
      "['사과', '딸기', '포도']\n",
      "['사과', '포도', '사과']\n",
      "['사과', '포도', '딸기']\n",
      "['사과', '포도', '포도']\n",
      "['딸기', '사과', '사과']\n",
      "['딸기', '사과', '딸기']\n",
      "['딸기', '사과', '포도']\n",
      "['딸기', '딸기', '사과']\n",
      "['딸기', '딸기', '딸기']\n",
      "['딸기', '딸기', '포도']\n",
      "['딸기', '포도', '사과']\n",
      "['딸기', '포도', '딸기']\n",
      "['딸기', '포도', '포도']\n",
      "['포도', '사과', '사과']\n",
      "['포도', '사과', '딸기']\n",
      "['포도', '사과', '포도']\n",
      "['포도', '딸기', '사과']\n",
      "['포도', '딸기', '딸기']\n",
      "['포도', '딸기', '포도']\n",
      "['포도', '포도', '사과']\n",
      "['포도', '포도', '딸기']\n",
      "['포도', '포도', '포도']\n"
     ]
    }
   ],
   "source": [
    "# 특정 리스트의 중복순열\n",
    "def recur4(i,N):\n",
    "    \n",
    "    if i ==N:\n",
    "        print(A)\n",
    "        return\n",
    "    for f in fruits:\n",
    "        A[i] = f\n",
    "        recur4(i+1,N)\n",
    "        \n",
    "    \n",
    "    \n",
    "    \n",
    "        \n",
    "fruits = ['사과', '딸기', '포도']\n",
    "N = len(fruits)\n",
    "A = [0]*N\n",
    "recur4(0,N)"
   ]
  },
  {
   "cell_type": "code",
   "execution_count": 26,
   "metadata": {},
   "outputs": [
    {
     "name": "stdout",
     "output_type": "stream",
     "text": [
      "['사과', '딸기', '포도']\n",
      "['사과', '포도', '딸기']\n",
      "['딸기', '사과', '포도']\n",
      "['딸기', '포도', '사과']\n",
      "['포도', '사과', '딸기']\n",
      "['포도', '딸기', '사과']\n"
     ]
    }
   ],
   "source": [
    "# 특정 리스트의 '순열'\n",
    "def recur5(i,N):\n",
    "    \n",
    "    if i ==N:\n",
    "        print(A)\n",
    "        return\n",
    "    for f in fruits:\n",
    "        # i 이전의 인덱스 요소중 f 가 없을때만\n",
    "        if f not in A[:i]:\n",
    "            A[i] = f\n",
    "        \n",
    "            recur5(i+1,N)\n",
    "        \n",
    "    \n",
    "    \n",
    "    \n",
    "        \n",
    "fruits = ['사과', '딸기', '포도']\n",
    "N = len(fruits)\n",
    "A = [0]*N\n",
    "recur5(0,N)"
   ]
  },
  {
   "cell_type": "code",
   "execution_count": 28,
   "metadata": {},
   "outputs": [
    {
     "name": "stdout",
     "output_type": "stream",
     "text": [
      "['딸기', '포도', '사과']\n",
      "['딸기', '사과', '포도']\n",
      "['딸기', '사과', '포도']\n",
      "['딸기', '포도', '사과']\n",
      "['포도', '사과', '딸기']\n",
      "['포도', '딸기', '사과']\n",
      "['포도', '딸기', '사과']\n",
      "['포도', '사과', '딸기']\n"
     ]
    }
   ],
   "source": [
    "# 특정 리스트의 '순열'\n",
    "def recur6(i,N):\n",
    "    \n",
    "    if i ==N:\n",
    "        print(fruits)\n",
    "        return\n",
    "    for j in range(1,N):\n",
    "        fruits[i],fruits[j] = fruits[j], fruits[i] # 현재 인덱스의 값을다른 인덱스의 값과 교환\n",
    "        recur6(i+1,N) # 다음 인덱스 값 결정\n",
    "        fruits[i],fruits[j] = fruits[j], fruits[i] # 원래 값으로 복귀\n",
    "\n",
    "        \n",
    "fruits = ['사과', '딸기', '포도']\n",
    "N = len(fruits)\n",
    "# A = [0]*N\n",
    "recur6(0,N)"
   ]
  }
 ],
 "metadata": {
  "kernelspec": {
   "display_name": "Python 3",
   "language": "python",
   "name": "python3"
  },
  "language_info": {
   "codemirror_mode": {
    "name": "ipython",
    "version": 3
   },
   "file_extension": ".py",
   "mimetype": "text/x-python",
   "name": "python",
   "nbconvert_exporter": "python",
   "pygments_lexer": "ipython3",
   "version": "3.9.13"
  }
 },
 "nbformat": 4,
 "nbformat_minor": 2
}
